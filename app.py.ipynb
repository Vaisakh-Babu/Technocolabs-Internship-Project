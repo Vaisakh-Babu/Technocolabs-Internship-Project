{
 "cells": [
  {
   "cell_type": "code",
   "execution_count": 2,
   "metadata": {},
   "outputs": [],
   "source": [
    "import streamlit as st\n",
    "import pickle\n",
    "import numpy\n",
    "model = pickle.load(open('model.pkl','rb'))\n",
    "\n",
    "\n",
    "def predict_rf(LIMIT_BAL,EDUCATION,MARRIAGE,AGE, PAY_1, BILL_AMT1, BILL_AMT2, BILL_AMT3, BILL_AMT4, BILL_AMT5, BILL_AMT6, PAY_AMT1, PAY_AMT2, PAY_AMT3, PAY_AMT4, PAY_AMT5, PAY_AMT6):\n",
    "    input=np.array([[LIMIT_BAL,EDUCATION,MARRIAGE,AGE, PAY_1, BILL_AMT1, BILL_AMT2, BILL_AMT3, BILL_AMT4, BILL_AMT5, BILL_AMT6, PAY_AMT1, PAY_AMT2, PAY_AMT3, PAY_AMT4, PAY_AMT5, PAY_AMT6]])\n",
    "    pred=model.predict(input)\n",
    "    return (pred)\n",
    "def main():\n",
    "    st.title(\"Credit Card Default Prediction\")\n",
    "    html_temp = \"\"\"\n",
    "    <div>\n",
    "        <h2>Parameters</h2>\n",
    "    </div>\n",
    "    \"\"\"\n",
    "        \n",
    "    st.markdown(html_temp,unsafe_allow_html=True)\n",
    "    \n",
    "    LIMIT_BAL  = st.text_input(\"LIMIT_BAL\",\"Type Here\")\n",
    "    EDUCATION  = st.text_input(\"EDUCATION\",\"Type Here\")\n",
    "    MARRIAGE   = st.text_input(\"MARRIAGE\",\"Type Here\")\n",
    "    AGE        = st.text_input(\"AGE\",\"Type Here\")\n",
    "    PAY_1      = st.text_input(\"PAY_1\",\"Type Here\")\n",
    "    BILL_AMT1  = st.text_input(\"BILL_AMT1\",\"Type Here\")\n",
    "    BILL_AMT2  = st.text_input(\"BILL_AMT2\",\"Type Here\")\n",
    "    BILL_AMT3  = st.text_input(\"BILL_AMT3\",\"Type Here\")\n",
    "    BILL_AMT4  = st.text_input(\"BILL_AMT4\",\"Type Here\")\n",
    "    BILL_AMT5  = st.text_input(\"BILL_AMT5\",\"Type Here\")\n",
    "    BILL_AMT6  = st.text_input(\"BILL_AMT6\",\"Type Here\")\n",
    "    PAY_AMT1   = st.text_input(\"PAY_AMT1\",\"Type Here\")\n",
    "    PAY_AMT2   = st.text_input(\"PAY_AMT2\",\"Type Here\")\n",
    "    PAY_AMT3   = st.text_input(\"PAY_AMT3\",\"Type Here\")\n",
    "    PAY_AMT4   = st.text_input(\"PAY_AMT4\",\"Type Here\")\n",
    "    PAY_AMT5   = st.text_input(\"PAY_AMT5\",\"Type Here\")\n",
    "    PAY_AMT6   = st.text_input(\"PAY_AMT6\",\"Type Here\")\n",
    "    \n",
    "    pos = \"\"\"\n",
    "    <div style=\"background-color:#F4D03F\" ;padding:10px>\n",
    "        <h2>Default</h2>\n",
    "    </div>\n",
    "    \"\"\"\n",
    "    \n",
    "    neg = \"\"\"\n",
    "    <div style=\"background-color:#F08080\" ;padding:10px>\n",
    "        <h2>Not Default</h2>\n",
    "    </div>\n",
    "    \"\"\"\n",
    "    \n",
    "    if st.button(\"Predict\"):\n",
    "        output = predict_rf(LIMIT_BAL,EDUCATION,MARRIAGE,AGE, PAY_1, BILL_AMT1, BILL_AMT2, BILL_AMT3, BILL_AMT4, BILL_AMT5, BILL_AMT6, PAY_AMT1, PAY_AMT2, PAY_AMT3, PAY_AMT4, PAY_AMT5, PAY_AMT6)\n",
    "        st.success('_-_-_')\n",
    "        if output == 1:\n",
    "            st.markdown(pos,unsafe_allow_html=True)\n",
    "        else:\n",
    "            st.markdown(neg,unsafe_allow_html=True)\n",
    "if __name__=='__main__':\n",
    "    main()"
   ]
  },
  {
   "cell_type": "code",
   "execution_count": null,
   "metadata": {},
   "outputs": [],
   "source": [
    "\n"
   ]
  }
 ],
 "metadata": {
  "kernelspec": {
   "display_name": "Python 3",
   "language": "python",
   "name": "python3"
  },
  "language_info": {
   "codemirror_mode": {
    "name": "ipython",
    "version": 3
   },
   "file_extension": ".py",
   "mimetype": "text/x-python",
   "name": "python",
   "nbconvert_exporter": "python",
   "pygments_lexer": "ipython3",
   "version": "3.7.3"
  }
 },
 "nbformat": 4,
 "nbformat_minor": 2
}
